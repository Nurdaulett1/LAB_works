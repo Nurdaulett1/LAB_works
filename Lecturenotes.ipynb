{
 "cells": [
  {
   "cell_type": "code",
   "execution_count": 12,
   "metadata": {},
   "outputs": [],
   "source": [
    "import re"
   ]
  },
  {
   "cell_type": "code",
   "execution_count": 3,
   "metadata": {},
   "outputs": [
    {
     "name": "stdout",
     "output_type": "stream",
     "text": [
      "b\n"
     ]
    }
   ],
   "source": [
    "text = \"b is first\"\n",
    "pattern = r\"b\" #r means raw string to find is b is here\"\n",
    "match = re.match(pattern, text) #match used to find if the pattern in beginning of text\"\n",
    "print(match.group() if match else \"No match\")\n",
    "\n"
   ]
  },
  {
   "cell_type": "code",
   "execution_count": null,
   "metadata": {},
   "outputs": [
    {
     "name": "stdout",
     "output_type": "stream",
     "text": [
      "abc\n"
     ]
    }
   ],
   "source": [
    "text = \"abc abd dabudi abc\"\n",
    "pattern = \"abc\"\n",
    "\n",
    "search = re.search(pattern,text) # find the first pattern in text\n",
    "print(search.group() if search else \"NO\")"
   ]
  },
  {
   "cell_type": "code",
   "execution_count": null,
   "metadata": {},
   "outputs": [
    {
     "name": "stdout",
     "output_type": "stream",
     "text": [
      "0\n",
      "3\n"
     ]
    }
   ],
   "source": [
    "print(search.start()) #positions of patter is 0 3\n",
    "print(search.end())"
   ]
  },
  {
   "cell_type": "code",
   "execution_count": 4,
   "metadata": {},
   "outputs": [
    {
     "name": "stdout",
     "output_type": "stream",
     "text": [
      "['c', 'c', 'c', 'c', 'c']\n"
     ]
    }
   ],
   "source": [
    "\n",
    "text = \"abc abc abcxyz abcdfd bcv\"\n",
    "pattern = r\"c\"\n",
    "matches = re.findall(pattern, text) #used for finding all the patterns\n",
    "print(matches)"
   ]
  },
  {
   "cell_type": "code",
   "execution_count": null,
   "metadata": {},
   "outputs": [
    {
     "name": "stdout",
     "output_type": "stream",
     "text": [
      "['spartans', 'spartans']\n"
     ]
    }
   ],
   "source": [
    "text = \" THE 300 spartans is here 300 spartans\"\n",
    "pattern = r\"spartans\"\n",
    "matches = re.findall(pattern, text)\n",
    "print(matches) #find all used if we need to list the patterns"
   ]
  },
  {
   "cell_type": "code",
   "execution_count": null,
   "metadata": {},
   "outputs": [],
   "source": []
  },
  {
   "cell_type": "code",
   "execution_count": null,
   "metadata": {},
   "outputs": [
    {
     "name": "stdout",
     "output_type": "stream",
     "text": [
      "Found 12 at position 0 to 2\n",
      "Found 52 at position 33 to 35\n",
      "Found 53 at position 53 to 55\n"
     ]
    }
   ],
   "source": [
    "text = \"12 people was in this place then 52 people come then 53 went outside\"\n",
    "pattern = r\"\\d+\"\n",
    "matches = re.finditer(pattern, text)#used when we need the iteration of element\n",
    "for match in matches:\n",
    "    print(f\"Found {match.group()} at position {match.start()} to {match.end()}\")"
   ]
  },
  {
   "cell_type": "code",
   "execution_count": null,
   "metadata": {},
   "outputs": [
    {
     "name": "stdout",
     "output_type": "stream",
     "text": [
      "His name is  Robert Paulson\n"
     ]
    }
   ],
   "source": [
    "\n",
    "text = \"His name is John Cena\"#re.sub used for changing words\n",
    "pattern = r\"John Cena\" #we need word from text then we need the new word for replace\n",
    "replacement = \" Robert Paulson\"\n",
    "new_text = re.sub(pattern, replacement, text)\n",
    "print(new_text)\n"
   ]
  },
  {
   "cell_type": "code",
   "execution_count": null,
   "metadata": {},
   "outputs": [
    {
     "name": "stdout",
     "output_type": "stream",
     "text": [
      "['', 'a', 'b', 'c', 'd', 'j', 'j', 'd', 's', 'k', 'g', 'j', 'f', 'h', 'k', 'j', 'h', 's', 'f', 'd', 'k', 'j', 'h', 'f', 'k', 'j', 'd', 'h', '']\n"
     ]
    }
   ],
   "source": [
    "#split as a name used for splitting text by pattern\n",
    "text = \"abcdjjdskgjfhkjhsfdkjhfkjdh\"\n",
    "#if we have empty pattern\n",
    "# #it will split every character\n",
    "pattern = r\"\"\n",
    "\n",
    "split_text = re.split(pattern,text)\n",
    "print(split_text)\n",
    "\n"
   ]
  },
  {
   "cell_type": "code",
   "execution_count": 16,
   "metadata": {},
   "outputs": [
    {
     "name": "stdout",
     "output_type": "stream",
     "text": [
      "['bob', 'ross', 'james:Daniel:mike:johnson:jamal']\n"
     ]
    }
   ],
   "source": [
    "text = \"bob,ross,james:Daniel:mike:johnson:jamal\"\n",
    "pattern = r\",\"\n",
    "split_text = re.split(pattern,text)\n",
    "print(split_text)\n",
    "#result will be ['bob', 'ross', 'james:Daniel:mike:johnson:jamal']"
   ]
  },
  {
   "cell_type": "code",
   "execution_count": null,
   "metadata": {},
   "outputs": [],
   "source": [
    "text = \"bob,ross,james:Daniel:mike:johnson:jamal\"\n",
    "pattern = r\":\"\n",
    "split_text = re.split(pattern,text)\n",
    "print(split_text)"
   ]
  },
  {
   "cell_type": "code",
   "execution_count": null,
   "metadata": {},
   "outputs": [],
   "source": []
  }
 ],
 "metadata": {
  "kernelspec": {
   "display_name": "Python 3",
   "language": "python",
   "name": "python3"
  },
  "language_info": {
   "codemirror_mode": {
    "name": "ipython",
    "version": 3
   },
   "file_extension": ".py",
   "mimetype": "text/x-python",
   "name": "python",
   "nbconvert_exporter": "python",
   "pygments_lexer": "ipython3",
   "version": "3.13.1"
  }
 },
 "nbformat": 4,
 "nbformat_minor": 2
}
